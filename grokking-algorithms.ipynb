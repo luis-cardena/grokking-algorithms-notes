{
 "cells": [
  {
   "cell_type": "markdown",
   "id": "b887d7c3",
   "metadata": {
    "tags": []
   },
   "source": [
    "# Grokking Algorithms Notes"
   ]
  },
  {
   "cell_type": "code",
   "execution_count": 1,
   "id": "d398bf7b",
   "metadata": {},
   "outputs": [],
   "source": [
    "import math"
   ]
  },
  {
   "cell_type": "markdown",
   "id": "a0858da6",
   "metadata": {},
   "source": [
    "## Chapter 1: Introduction to Algorithms"
   ]
  },
  {
   "cell_type": "code",
   "execution_count": 2,
   "id": "1404db09",
   "metadata": {
    "tags": []
   },
   "outputs": [
    {
     "name": "stdout",
     "output_type": "stream",
     "text": [
      "Binary search output:  2\n"
     ]
    }
   ],
   "source": [
    "def binary_search(list, item):\n",
    "  low = 0\n",
    "  high = len(list) - 1\n",
    "\n",
    "  while low <= high:\n",
    "    mid = math.floor((low + high) / 2)\n",
    "    guess = list[mid]\n",
    "    if guess == item:\n",
    "      return mid\n",
    "    elif guess > item:\n",
    "      high = mid - 1\n",
    "    else:\n",
    "      low = mid + 1\n",
    "  return None\n",
    "\n",
    "my_list = [0,1,2,3,4,5,6,7,8,9,10]\n",
    "my_list2 = [-34, -30, -27, -20, -18, -15, -10, 0, 12, 34, 45, 48, 65, 78, 98, 107, 1024, 2048, 4079]\n",
    "item = -27\n",
    "\n",
    "print(\"Binary search output: \", binary_search(my_list2, item))"
   ]
  },
  {
   "cell_type": "markdown",
   "id": "9f1e9a76",
   "metadata": {
    "tags": []
   },
   "source": [
    "## Chapter 2: Selection Sort\n",
    "\n",
    "Desarrollar una función que tome un arreglo numérico desordenado y regresa un arreglo con los números ordenados de menor a mayor.\n",
    "Usar la función auxiliar `findSmallest()`"
   ]
  },
  {
   "cell_type": "code",
   "execution_count": 3,
   "id": "3ad43032-4bd1-443d-b52e-0587913a539a",
   "metadata": {},
   "outputs": [
    {
     "name": "stdout",
     "output_type": "stream",
     "text": [
      "[1, 1, 2, 2, 4, 4, 5, 6, 6, 7, 8, 9]\n"
     ]
    }
   ],
   "source": [
    "def findSmallest(arr):\n",
    "  smallest = arr[0]\n",
    "  smallest_index = 0\n",
    "  for i in range(1, len(arr)):\n",
    "    if arr[i] < smallest:\n",
    "      smallest = arr[i]\n",
    "      smallest_index = i\n",
    "  return smallest_index\n",
    "\n",
    "def selectionSort(arr):\n",
    "  new_array = []\n",
    "  for i in range (len(arr)):\n",
    "    smallest_index = findSmallest(arr)\n",
    "    new_array.append(arr.pop(smallest_index))\n",
    "    \n",
    "  return new_array\n",
    "  \n",
    "  \n",
    "arr = [6, 8, 2, 5, 2, 9, 1, 6, 7, 4, 4, 1]\n",
    "\n",
    "print(selectionSort(arr))"
   ]
  },
  {
   "cell_type": "markdown",
   "id": "7bee2688",
   "metadata": {
    "tags": []
   },
   "source": [
    "## Chapter 3: Recursion\n",
    "### Función contador usando recursión\n",
    "\n",
    "Desarrollar una función que realice una cuenta regresiva al introducir un número. Usar recursión y notar las dos condiciones básicas que debe tener una función que usa recursión.\n"
   ]
  },
  {
   "cell_type": "code",
   "execution_count": 4,
   "id": "7e55af12",
   "metadata": {
    "tags": []
   },
   "outputs": [
    {
     "name": "stdout",
     "output_type": "stream",
     "text": [
      "5\n",
      "4\n",
      "3\n",
      "2\n",
      "1\n",
      "0\n"
     ]
    }
   ],
   "source": [
    "def countdown(i):\n",
    "  print(i)\n",
    "  if (i <= 0):            # Base case\n",
    "    return\n",
    "  else:                   # Recursive case\n",
    "    countdown(i - 1)      # Recursion!\n",
    "        \n",
    "countdown(5)"
   ]
  },
  {
   "cell_type": "markdown",
   "id": "595ce053-7fc4-403b-8666-ee790a3b9f72",
   "metadata": {},
   "source": [
    "### Función factorizar\n",
    "\n",
    "Realizar una función que devuelva el factorial de un número, usando recursión. Prestar atención al orden en que se llama la misma función dentro de la función principal (*call stack*)."
   ]
  },
  {
   "cell_type": "code",
   "execution_count": 5,
   "id": "5ac53158-f6ce-440f-99c2-ec82516659c6",
   "metadata": {},
   "outputs": [
    {
     "name": "stdout",
     "output_type": "stream",
     "text": [
      "Valor de X:  3\n",
      "Valor de X:  2\n",
      "Valor de X:  1\n",
      "x = 1:  1\n",
      "6\n"
     ]
    }
   ],
   "source": [
    "def fact(x):\n",
    "  print(\"Valor de X: \", x)\n",
    "  if x == 1:\n",
    "    print(\"x = 1: \", x)\n",
    "    return 1\n",
    "  else:\n",
    "    return x * fact(x-1)\n",
    "\n",
    "print(fact(3))"
   ]
  },
  {
   "cell_type": "markdown",
   "id": "330a276e-9136-4910-89f5-36a7163322d3",
   "metadata": {},
   "source": [
    "## Chapter 4: Quicksort\n",
    "\n",
    "### Divide & Conquer example\n",
    "\n",
    "You’re given an array of numbers `[2, 4, 6]`. You have to add up all the numbers and return the total.\n",
    "It’s pretty easy to do this with a loop, but how would you do this with a ***recursive function***?"
   ]
  },
  {
   "cell_type": "code",
   "execution_count": 6,
   "id": "9414e76a-2328-4eda-9565-e2d61fa25513",
   "metadata": {},
   "outputs": [
    {
     "data": {
      "text/plain": [
       "12"
      ]
     },
     "execution_count": 6,
     "metadata": {},
     "output_type": "execute_result"
    }
   ],
   "source": [
    "# Función suma de array con un ciclo normal\n",
    "\n",
    "def sum(arr):\n",
    "  total = 0\n",
    "  for i in arr:\n",
    "    total += i\n",
    "  return total\n",
    "\n",
    "\n",
    "# Función suma de array con recursión\n",
    "\n",
    "def sumArr(arr):\n",
    "  if arr == []:                           # caso base: cuando el array tenga cero elementos\n",
    "    return 0\n",
    "  else:\n",
    "    return arr[0] + sumArr(arr[1:])\n",
    "\n",
    "  \n",
    "arr = [2, 4, 6]\n",
    "\n",
    "sumArr(arr)"
   ]
  },
  {
   "cell_type": "markdown",
   "id": "ad84e256-ebf3-4172-8015-f9d2fe38bd2d",
   "metadata": {},
   "source": [
    "### Exercises\n",
    "\n",
    "* **4.1** Write out the code for the earlier sum function.\n",
    "* **4.2** Write a recursive function to count the number of items in a list.\n",
    "* **4.3** Find the maximum number in a list.\n",
    "* **4.4** Remember binary search from chapter 1?\n",
    "    It’s a divide-and-conquer algorithm, too.\n",
    "    Can you come up with the base case and recursive case for binary search?"
   ]
  },
  {
   "cell_type": "code",
   "execution_count": 7,
   "id": "cafaf093-9f29-410b-b79f-81da9657088b",
   "metadata": {},
   "outputs": [
    {
     "name": "stdout",
     "output_type": "stream",
     "text": [
      "max(array) algorithm output:  6\n",
      "binary_search_recursive(list, item) output:  -27\n"
     ]
    }
   ],
   "source": [
    "# 4.2\n",
    "def countList(arr):\n",
    "  if arr == []:\n",
    "    return 0\n",
    "  else:\n",
    "    return 1 + countList(arr[1:])\n",
    "\n",
    "# 4.3 Solución propia\n",
    "# def findGreatest(array):\n",
    "#   if (len(arr) == 1):\n",
    "#     return arr[0]\n",
    "#   else:\n",
    "#     if arr[0] < arr[1]:\n",
    "#       arr.pop(0)\n",
    "#       return findGreatest(arr)\n",
    "#     else:\n",
    "#       arr.pop(1)\n",
    "#       return findGreatest(arr)\n",
    "    \n",
    "# 4.3 solución del libro\n",
    "def max(arr):\n",
    "  if len(arr) == 2:\n",
    "    return arr[0] if arr[0] > arr[1] else arr[1]\n",
    "  sub_max = max(arr[1:])\n",
    "  return arr[0] if arr[0] > sub_max else sub_max\n",
    "  \n",
    "thislist = [\"apple\", \"banana\", \"cherry\", \"strawberry\"]\n",
    "arr = [6, 5, 4]\n",
    "\n",
    "print(\"max(array) algorithm output: \", max(arr))\n",
    "\n",
    "\n",
    "# 4.4\n",
    "def binary_search_recursive(list, item):\n",
    "  low = 0\n",
    "  high = len(list) - 1\n",
    "  mid = math.floor((low + high) / 2)\n",
    "  guess = list[mid]\n",
    "#   print(\"low: \", low, \"high: \", high, \"mid: \", mid, \"number: \", list[mid], list, guess)\n",
    "\n",
    "  if (len(list) == 1 and guess == item):\n",
    "    return guess\n",
    "  elif (len(list) == 1 and guess != item):\n",
    "    return -1\n",
    "  else:\n",
    "    if guess >= item:\n",
    "      high = mid + 1\n",
    "      return binary_search_recursive(list[:high], item)\n",
    "    else:\n",
    "      low = mid + 1\n",
    "      return binary_search_recursive(list[low:], item)\n",
    "      \n",
    "print(\"binary_search_recursive(list, item) output: \", binary_search_recursive(my_list2, item))\n",
    "\n",
    "# countList(thislist)\n",
    "# print(findGreatest(arr))"
   ]
  },
  {
   "cell_type": "markdown",
   "id": "a5cf2dfc-c6d2-4e80-afcf-0585228a1b89",
   "metadata": {},
   "source": [
    "### Quicksort implementation\n",
    "\n",
    "![quicksort](images/quicksort.png)"
   ]
  },
  {
   "cell_type": "code",
   "execution_count": 8,
   "id": "e3ca39cf-bd9f-418d-b3ff-9c9920387095",
   "metadata": {},
   "outputs": [
    {
     "name": "stdout",
     "output_type": "stream",
     "text": [
      "[2, 2, 3, 5, 10, 23, 56]\n"
     ]
    }
   ],
   "source": [
    "def quicksort(arr):\n",
    "  if len(arr) < 2:\n",
    "    return arr\n",
    "  else:\n",
    "    pivot = arr[0]\n",
    "    for i in arr:\n",
    "      less = [i for i in arr[1:] if i <= pivot]\n",
    "      greater = [i for i in arr[1:] if i > pivot]\n",
    "      \n",
    "      return quicksort(less) + [pivot] + quicksort(greater)\n",
    "    \n",
    "print (quicksort([10, 2, 23, 5, 2, 56, 3]))"
   ]
  },
  {
   "cell_type": "markdown",
   "id": "7bc3ebd6-1dc9-467b-862d-146094804867",
   "metadata": {},
   "source": [
    "### Big O notation revisited\n",
    "\n",
    "![Big-O](images/big-o.png)\n",
    "\n",
    "The most common Big O run times. Estimates based on a slow computer that performs 10 operations pero second.\n",
    "\n",
    "![Quicksort stack height](quicksort2.png)\n",
    "\n",
    "Quicksort takes ___`O(n*log n)`___ in the best-case scenario. In the worst-case scenario, there are ***`O(n)`*** levels, so the algorithm will take ___`O(n) * O(n) = O(n^2)`___. Turns out the best-case scenario is also the average case. *If you always choose a random element in the array as the pivot*, quicksort will complete in ___`O(n*log n)___` time on average."
   ]
  },
  {
   "cell_type": "code",
   "execution_count": 9,
   "id": "69f8bd67-380c-4d14-86fe-712723f4ec38",
   "metadata": {},
   "outputs": [],
   "source": [
    "def print_items(list):\n",
    "  for item in list:\n",
    "    print(item)\n",
    "    \n",
    "from time import sleep\n",
    "\n",
    "def print_items2(list):\n",
    "  for item in list:\n",
    "    sleep(5)              # Hace una pausa de 5 segundos entre operación\n",
    "    print (item)"
   ]
  },
  {
   "cell_type": "markdown",
   "id": "59f22a5c-5bf1-45b3-a644-e7be6eda5d27",
   "metadata": {},
   "source": [
    "## Chapter 5: Hash tables\n",
    "\n",
    "Hash tables are probably the most useful complex data structure you’ll learn. hey’re also known as hash maps, maps, dictionaries, and associative arrays. You can get an item from an array instantly. A hash table has keys and values."
   ]
  },
  {
   "cell_type": "code",
   "execution_count": 10,
   "id": "4cb3d8dd-a1cd-4b94-a0d5-3572b740036b",
   "metadata": {},
   "outputs": [
    {
     "data": {
      "text/plain": [
       "8675309"
      ]
     },
     "execution_count": 10,
     "metadata": {},
     "output_type": "execute_result"
    }
   ],
   "source": [
    "book = dict()\n",
    "book['apple'] = .67\n",
    "book['milk'] = 1.49\n",
    "book['avocado'] = 1.49\n",
    "# print(book['avocado'])\n",
    "\n",
    "phone_book = dict()\n",
    "phone_book['jenny'] = 8675309\n",
    "phone_book['emergency'] = 911\n",
    "#print(phone_book['jenny'])\n",
    "\n",
    "phone_book.get('jenny')"
   ]
  },
  {
   "cell_type": "markdown",
   "id": "86e8cb19-ddf1-4292-9f24-ae89e18c0c66",
   "metadata": {},
   "source": [
    "### Voting function\n",
    "\n",
    "![voted_function](images/voted-function.png)"
   ]
  },
  {
   "cell_type": "code",
   "execution_count": 11,
   "id": "73f8ffa9-21f1-4f48-b4c0-84b9a1528535",
   "metadata": {},
   "outputs": [
    {
     "name": "stdout",
     "output_type": "stream",
     "text": [
      "Let them vote!\n",
      "Let them vote!\n",
      "Kick them out!\n"
     ]
    },
    {
     "data": {
      "text/plain": [
       "{'tom': True, 'eddie': True}"
      ]
     },
     "execution_count": 11,
     "metadata": {},
     "output_type": "execute_result"
    }
   ],
   "source": [
    "voted = {}\n",
    "\n",
    "def check_voter(name):\n",
    "  if voted.get(name):\n",
    "    print('Kick them out!')\n",
    "  else:\n",
    "    voted[name] = True\n",
    "    print('Let them vote!')\n",
    "    \n",
    "check_voter('tom')\n",
    "check_voter('eddie')\n",
    "check_voter('eddie')\n",
    "voted"
   ]
  },
  {
   "cell_type": "markdown",
   "id": "2c39e180-4197-4af1-9620-7402c78049f1",
   "metadata": {},
   "source": [
    "### Exercises\n",
    "\n",
    "It’s important for hash functions to have a good distribution. hey should map items as broadly as possible. he worst case is a hash function that maps all items to the same slot in the hash table.\n",
    "\n",
    "Suppose you have these four hash functions that work with strings:\n",
    "\n",
    "* **A)** Return “1” for all input.\n",
    "* **B)** Use the length of the string as the index.\n",
    "* **C)** Use the irst character of the string as the index. So, all strings starting with a are hashed together, and so on.\n",
    "* **D)** Map every letter to a prime number: a = 2, b = 3, c = 5, d = 7, e = 11, and so on. For a string, the hash function is the sum of all the characters modulo the size of the hash. For example, if your hash size is 10, and the string is “bag”, the index is 3 + 2 + 17 % 10 = 22 % 10 = 2.\n",
    "\n",
    "For each of these examples, which hash functions would provide a good distribution? Assume a hash table size of 10 slots.\n",
    "\n",
    "* **5.5** A phonebook where the keys are names and values are phone numbers. he names are as follows: Esther, Ben, Bob, and Dan.\n",
    "* **5.6** A mapping from battery size to power. he sizes are A, AA, AAA, and AAAA.\n",
    "* **5.7** A mapping from book titles to authors. he titles are Maus, Fun Home, and Watchmen."
   ]
  },
  {
   "cell_type": "code",
   "execution_count": 12,
   "id": "f518eacd-24f5-4bdc-b883-1f5b0be11b69",
   "metadata": {
    "jupyter": {
     "outputs_hidden": true
    },
    "tags": []
   },
   "outputs": [
    {
     "name": "stdout",
     "output_type": "stream",
     "text": [
      "0\n",
      "0\n",
      "2\n",
      "1\n",
      "0\n",
      "0\n",
      "0\n",
      "0\n",
      "3\n",
      "2\n",
      "3\n"
     ]
    }
   ],
   "source": [
    "prime_numbers = [2, 3, 5, 7, 11, 13, 17, 19, 23, 29, 31, 37, 41, 43, 47, 53, 59, 61, 67, 71, 73, 79, 83, 89, 97, 101]\n",
    "alphabet = \"abcdefghijklmnopqrstuvwxyz\"\n",
    "\n",
    "#for i in alphabet:\n",
    "#  alphabet_array.append(i)\n",
    "\n",
    "# Locate the prime number associated with a letter and vice versa\n",
    "#prime_numbers[alphabet.index('x')]\n",
    "#alphabet[prime_numbers.index(47)]\n",
    "\n",
    "def encode_prime_alphabet(name):\n",
    "  name = name.lower()\n",
    "  value = 0\n",
    "  for i in name:\n",
    "    value += prime_numbers[alphabet.index(i)]\n",
    "    value = value % len(name)\n",
    "  return value\n",
    "\n",
    "print(encode_prime_alphabet('Esther'))\n",
    "print(encode_prime_alphabet('Ben'))\n",
    "print(encode_prime_alphabet('Bob'))\n",
    "print(encode_prime_alphabet('Dan'))\n",
    "\n",
    "print(encode_prime_alphabet('A'))\n",
    "print(encode_prime_alphabet('AA'))\n",
    "print(encode_prime_alphabet('AAA'))\n",
    "print(encode_prime_alphabet('AAAA'))\n",
    "\n",
    "print(encode_prime_alphabet('Maus'))\n",
    "print(encode_prime_alphabet('FunHome'))\n",
    "print(encode_prime_alphabet('Watchmen'))"
   ]
  },
  {
   "cell_type": "markdown",
   "id": "fe5c5c0a-c6db-4e01-923f-98edd9fc010f",
   "metadata": {},
   "source": [
    "## Capter 6: Graphs\n",
    "\n",
    "![graphs](images/graphs.png)"
   ]
  },
  {
   "cell_type": "code",
   "execution_count": 13,
   "id": "a1d44c17-1793-4001-8a77-d561d6814165",
   "metadata": {},
   "outputs": [
    {
     "data": {
      "text/plain": [
       "{'you': ['alice', 'bob', 'claire']}"
      ]
     },
     "execution_count": 13,
     "metadata": {},
     "output_type": "execute_result"
    }
   ],
   "source": [
    "graph = {}\n",
    "graph[\"you\"] = [\"alice\", \"bob\", \"claire\"]\n",
    "\n",
    "graph"
   ]
  },
  {
   "cell_type": "markdown",
   "id": "000c64b6-99b6-4ef5-ae87-e26bd8858e6d",
   "metadata": {},
   "source": [
    "![graphs](images/graphs2.png)"
   ]
  },
  {
   "cell_type": "code",
   "execution_count": 14,
   "id": "6dcf050c-74d4-41df-b79f-43630f5019d7",
   "metadata": {},
   "outputs": [
    {
     "data": {
      "text/plain": [
       "['alice', 'bob', 'claire']"
      ]
     },
     "execution_count": 14,
     "metadata": {},
     "output_type": "execute_result"
    }
   ],
   "source": [
    "graph[\"alice\"]= [\"peggy\"]\n",
    "graph[\"bob\"] = [\"anuj\",\"peggy\"]\n",
    "graph[\"claire\"] = [\"jonny\", \"thom\"]\n",
    "\n",
    "graph[\"anuj\"] = []\n",
    "graph[\"jonny\"] = []\n",
    "graph[\"peggy\"] = []\n",
    "graph[\"thom\"] = []\n",
    "\n",
    "graph[\"you\"]"
   ]
  },
  {
   "cell_type": "markdown",
   "id": "86b07818-0be9-4c59-b0a1-db8e3d61c463",
   "metadata": {},
   "source": [
    "![graph-implementation](images/graphs3.png)"
   ]
  },
  {
   "cell_type": "code",
   "execution_count": 15,
   "id": "eef321db-e810-453e-8587-dbd4d2e8e537",
   "metadata": {},
   "outputs": [
    {
     "data": {
      "text/plain": [
       "False"
      ]
     },
     "execution_count": 15,
     "metadata": {},
     "output_type": "execute_result"
    }
   ],
   "source": [
    "from collections import deque\n",
    "\n",
    "search_queue = deque()              # Creates a new queue\n",
    "search_queue += graph[\"you\"]        # Adds all of your neighbors to the search queue\n",
    "\n",
    "#while search_queue:\n",
    "\n",
    "person = search_queue.popleft()\n",
    "person = search_queue.popleft()\n",
    "person = search_queue.popleft()\n",
    "\n",
    "\n",
    "bool(search_queue)"
   ]
  }
 ],
 "metadata": {
  "kernelspec": {
   "display_name": "Python 3",
   "language": "python",
   "name": "python3"
  },
  "language_info": {
   "codemirror_mode": {
    "name": "ipython",
    "version": 3
   },
   "file_extension": ".py",
   "mimetype": "text/x-python",
   "name": "python",
   "nbconvert_exporter": "python",
   "pygments_lexer": "ipython3",
   "version": "3.9.1"
  }
 },
 "nbformat": 4,
 "nbformat_minor": 5
}
